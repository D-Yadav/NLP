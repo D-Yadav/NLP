{
  "nbformat": 4,
  "nbformat_minor": 0,
  "metadata": {
    "colab": {
      "provenance": [],
      "gpuType": "T4",
      "authorship_tag": "ABX9TyMI/wohefknQJ5948ynTTyi",
      "include_colab_link": true
    },
    "kernelspec": {
      "name": "python3",
      "display_name": "Python 3"
    },
    "language_info": {
      "name": "python"
    },
    "accelerator": "GPU"
  },
  "cells": [
    {
      "cell_type": "markdown",
      "metadata": {
        "id": "view-in-github",
        "colab_type": "text"
      },
      "source": [
        "<a href=\"https://colab.research.google.com/github/D-Yadav/NLP/blob/main/Machine_Learning_language_Translation_using_encoders_decoders.ipynb\" target=\"_parent\"><img src=\"https://colab.research.google.com/assets/colab-badge.svg\" alt=\"Open In Colab\"/></a>"
      ]
    },
    {
      "cell_type": "markdown",
      "source": [
        "##**Machine Learning Language Translation**\n",
        "\n",
        "For in-depth intution on concepts : https://blog.keras.io/a-ten-minute-introduction-to-sequence-to-sequence-learning-in-keras.html"
      ],
      "metadata": {
        "id": "Rxi1wwJYC8Uq"
      }
    },
    {
      "cell_type": "code",
      "source": [
        "import tensorflow as tf\n",
        "print(tf.__version__)\n",
        "from tensorflow.keras.models import Model\n",
        "from tensorflow.keras.layers import Input, LSTM, Dense\n",
        "import numpy as np"
      ],
      "metadata": {
        "colab": {
          "base_uri": "https://localhost:8080/"
        },
        "id": "-X8d877pDSLu",
        "outputId": "5b1a1cec-c2db-4da7-f55c-091512b497dd"
      },
      "execution_count": 1,
      "outputs": [
        {
          "output_type": "stream",
          "name": "stdout",
          "text": [
            "2.12.0\n"
          ]
        }
      ]
    },
    {
      "cell_type": "code",
      "source": [
        "batch_size = 64 #batch size for training\n",
        "epochs = 100 #Number of epochs to train for.\n",
        "latent_dim = 256 #Latent dimensionality of the encoding space\n",
        "num_samples = 10000 #No of samples to train on\n",
        "data_path = '/content/fra.txt' #Path to data test file on disk"
      ],
      "metadata": {
        "id": "rCXXrXH9Di6N"
      },
      "execution_count": 2,
      "outputs": []
    },
    {
      "cell_type": "code",
      "source": [
        "# Vectorize the data, we are basically reading input as well as target data, w.r.t all input sentences we are basically reading all unique characters\n",
        "# Input data is english sentences and output data is all french sentences\n",
        "input_texts = [] # English input data in form of texts\n",
        "target_texts = [] # French o/p data in the form of texts\n",
        "input_characters = set() # Gives all the unique characters of english\n",
        "target_characters = set() # All the french characters in dataset\n",
        "with open(data_path, 'r', encoding = 'utf-8') as f: # Open file\n",
        "  lines = f.read().split('\\n')\n",
        "for line in lines[: min(num_samples, len(lines) -1)]: # traversing to every lines\n",
        "  input_text, target_text, _ = line.split('\\t') # Splits w.r.t input_texts and target_texts\n",
        "  # We use \"tab\" as the \"start sequence\" character\n",
        "  # for the targets, and \"\\n\" as \"end-sequence\" character\n",
        "  target_text = '\\t' + target_text + '\\n' #Input Text is English texts & Target Text is french texts\n",
        "  input_texts.append(input_text)\n",
        "  target_texts.append(target_text)\n",
        "  for char in input_text:\n",
        "    if char not in input_characters:\n",
        "      input_characters.add(char)\n",
        "  for char in target_text:\n",
        "    if char not in target_characters:\n",
        "      target_characters.add(char)"
      ],
      "metadata": {
        "id": "0K1havqvHRdO"
      },
      "execution_count": 3,
      "outputs": []
    },
    {
      "cell_type": "code",
      "source": [
        "input_characters = sorted(list(input_characters))\n",
        "target_characters = sorted(list(target_characters))\n",
        "num_encoder_tokens = len(input_characters)\n",
        "num_decoder_tokens = len(target_characters)\n",
        "max_encoder_seq_length = max([len(txt) for txt in input_texts])\n",
        "max_decoder_seq_length = max([len(txt) for txt in target_texts])"
      ],
      "metadata": {
        "id": "f8Mga6ZeL_ZU"
      },
      "execution_count": 5,
      "outputs": []
    },
    {
      "cell_type": "code",
      "source": [
        "print('Number of samples :', len(input_texts))\n",
        "print('Number of unique input tokens :', num_encoder_tokens)\n",
        "print('Number of unique output tokens :', num_decoder_tokens)\n",
        "print('Max sequence length for inputs :', max_encoder_seq_length)\n",
        "print('Max sequence length for outputs :', max_decoder_seq_length)"
      ],
      "metadata": {
        "colab": {
          "base_uri": "https://localhost:8080/"
        },
        "id": "aYW7ebKWOhMA",
        "outputId": "2ee70a21-baf3-474c-bae7-93c1182c07f8"
      },
      "execution_count": 6,
      "outputs": [
        {
          "output_type": "stream",
          "name": "stdout",
          "text": [
            "Number of samples : 10000\n",
            "Number of unique input tokens : 71\n",
            "Number of unique output tokens : 93\n",
            "Max sequence length for inputs : 15\n",
            "Max sequence length for outputs : 59\n"
          ]
        }
      ]
    },
    {
      "cell_type": "code",
      "source": [
        "# Assigning tokens to each and every characters\n",
        "input_token_index = dict(\n",
        "    [(char, i) for i, char in enumerate(input_characters)])\n",
        "target_token_index = dict(\n",
        "    [(char, i) for i, char in enumerate (target_characters)])"
      ],
      "metadata": {
        "id": "c3Zs1bNbPXdK"
      },
      "execution_count": 8,
      "outputs": []
    },
    {
      "cell_type": "code",
      "source": [
        "input_token_index, target_token_index"
      ],
      "metadata": {
        "colab": {
          "base_uri": "https://localhost:8080/"
        },
        "id": "BCYzPp7wQef-",
        "outputId": "ae323cae-5b6e-49a7-fa34-63bf536d8eea"
      },
      "execution_count": 7,
      "outputs": [
        {
          "output_type": "execute_result",
          "data": {
            "text/plain": [
              "({' ': 0,\n",
              "  '!': 1,\n",
              "  '\"': 2,\n",
              "  '$': 3,\n",
              "  '%': 4,\n",
              "  '&': 5,\n",
              "  \"'\": 6,\n",
              "  ',': 7,\n",
              "  '-': 8,\n",
              "  '.': 9,\n",
              "  '0': 10,\n",
              "  '1': 11,\n",
              "  '2': 12,\n",
              "  '3': 13,\n",
              "  '5': 14,\n",
              "  '7': 15,\n",
              "  '8': 16,\n",
              "  '9': 17,\n",
              "  ':': 18,\n",
              "  '?': 19,\n",
              "  'A': 20,\n",
              "  'B': 21,\n",
              "  'C': 22,\n",
              "  'D': 23,\n",
              "  'E': 24,\n",
              "  'F': 25,\n",
              "  'G': 26,\n",
              "  'H': 27,\n",
              "  'I': 28,\n",
              "  'J': 29,\n",
              "  'K': 30,\n",
              "  'L': 31,\n",
              "  'M': 32,\n",
              "  'N': 33,\n",
              "  'O': 34,\n",
              "  'P': 35,\n",
              "  'Q': 36,\n",
              "  'R': 37,\n",
              "  'S': 38,\n",
              "  'T': 39,\n",
              "  'U': 40,\n",
              "  'V': 41,\n",
              "  'W': 42,\n",
              "  'Y': 43,\n",
              "  'a': 44,\n",
              "  'b': 45,\n",
              "  'c': 46,\n",
              "  'd': 47,\n",
              "  'e': 48,\n",
              "  'f': 49,\n",
              "  'g': 50,\n",
              "  'h': 51,\n",
              "  'i': 52,\n",
              "  'j': 53,\n",
              "  'k': 54,\n",
              "  'l': 55,\n",
              "  'm': 56,\n",
              "  'n': 57,\n",
              "  'o': 58,\n",
              "  'p': 59,\n",
              "  'q': 60,\n",
              "  'r': 61,\n",
              "  's': 62,\n",
              "  't': 63,\n",
              "  'u': 64,\n",
              "  'v': 65,\n",
              "  'w': 66,\n",
              "  'x': 67,\n",
              "  'y': 68,\n",
              "  'z': 69,\n",
              "  'é': 70},\n",
              " {'\\t': 0,\n",
              "  '\\n': 1,\n",
              "  ' ': 2,\n",
              "  '!': 3,\n",
              "  '%': 4,\n",
              "  '&': 5,\n",
              "  \"'\": 6,\n",
              "  '(': 7,\n",
              "  ')': 8,\n",
              "  ',': 9,\n",
              "  '-': 10,\n",
              "  '.': 11,\n",
              "  '0': 12,\n",
              "  '1': 13,\n",
              "  '2': 14,\n",
              "  '3': 15,\n",
              "  '5': 16,\n",
              "  '8': 17,\n",
              "  '9': 18,\n",
              "  ':': 19,\n",
              "  '?': 20,\n",
              "  'A': 21,\n",
              "  'B': 22,\n",
              "  'C': 23,\n",
              "  'D': 24,\n",
              "  'E': 25,\n",
              "  'F': 26,\n",
              "  'G': 27,\n",
              "  'H': 28,\n",
              "  'I': 29,\n",
              "  'J': 30,\n",
              "  'K': 31,\n",
              "  'L': 32,\n",
              "  'M': 33,\n",
              "  'N': 34,\n",
              "  'O': 35,\n",
              "  'P': 36,\n",
              "  'Q': 37,\n",
              "  'R': 38,\n",
              "  'S': 39,\n",
              "  'T': 40,\n",
              "  'U': 41,\n",
              "  'V': 42,\n",
              "  'W': 43,\n",
              "  'Y': 44,\n",
              "  'a': 45,\n",
              "  'b': 46,\n",
              "  'c': 47,\n",
              "  'd': 48,\n",
              "  'e': 49,\n",
              "  'f': 50,\n",
              "  'g': 51,\n",
              "  'h': 52,\n",
              "  'i': 53,\n",
              "  'j': 54,\n",
              "  'k': 55,\n",
              "  'l': 56,\n",
              "  'm': 57,\n",
              "  'n': 58,\n",
              "  'o': 59,\n",
              "  'p': 60,\n",
              "  'q': 61,\n",
              "  'r': 62,\n",
              "  's': 63,\n",
              "  't': 64,\n",
              "  'u': 65,\n",
              "  'v': 66,\n",
              "  'w': 67,\n",
              "  'x': 68,\n",
              "  'y': 69,\n",
              "  'z': 70,\n",
              "  '\\xa0': 71,\n",
              "  '«': 72,\n",
              "  '»': 73,\n",
              "  'À': 74,\n",
              "  'Ç': 75,\n",
              "  'É': 76,\n",
              "  'Ê': 77,\n",
              "  'à': 78,\n",
              "  'â': 79,\n",
              "  'ç': 80,\n",
              "  'è': 81,\n",
              "  'é': 82,\n",
              "  'ê': 83,\n",
              "  'î': 84,\n",
              "  'ï': 85,\n",
              "  'ô': 86,\n",
              "  'ù': 87,\n",
              "  'û': 88,\n",
              "  'œ': 89,\n",
              "  '\\u2009': 90,\n",
              "  '’': 91,\n",
              "  '\\u202f': 92})"
            ]
          },
          "metadata": {},
          "execution_count": 7
        }
      ]
    },
    {
      "cell_type": "code",
      "source": [
        "# This step is basically to show how you can do OHE by using numpy below\n",
        "encoder_input_data = np.zeros( # Initially making all zeros based on dimension\n",
        "    (len(input_texts), max_encoder_seq_length, num_encoder_tokens),\n",
        "    dtype = 'float32')\n",
        "decoder_input_data = np.zeros(\n",
        "    (len(input_texts), max_decoder_seq_length, num_decoder_tokens),\n",
        "    dtype = 'float32')\n",
        "decoder_target_data = np.zeros(\n",
        "    (len(input_texts), max_decoder_seq_length, num_decoder_tokens),\n",
        "    dtype='float32')\n",
        "## Summary of the process : https://blog.keras.io/a-ten-minute-introduction-to-sequence-to-sequence-learning-in-keras.html"
      ],
      "metadata": {
        "id": "W1rnDgxCQh_4"
      },
      "execution_count": 9,
      "outputs": []
    },
    {
      "cell_type": "code",
      "source": [
        "## OHE\n",
        "\n",
        "for i, (input_text, target_text) in enumerate(zip(input_texts, target_texts)):\n",
        "  for t, char in enumerate(input_text):\n",
        "    encoder_input_data[i, t, input_token_index[char]] = 1.\n",
        "    encoder_input_data[i, t + 1:, input_token_index[' ']] = 1.\n",
        "    for t, char in enumerate(target_text):\n",
        "      # decoder_target_data is ahead of decoder_input_data by one timestamp\n",
        "      decoder_target_data[i, t, target_token_index[char]] = 1.\n",
        "      if t>0:\n",
        "        # decoder_target_data will be ahead by one timestamp\n",
        "        # and will not include the start character.\n",
        "        decoder_target_data[i, t-1, target_token_index[char]] =1.\n",
        "        decoder_input_data[i, t + 1:, target_token_index[' ']] =1.\n",
        "        decoder_target_data[i, t:, target_token_index[' ']] =1."
      ],
      "metadata": {
        "id": "l565Wje7Sk-j"
      },
      "execution_count": 10,
      "outputs": []
    },
    {
      "cell_type": "code",
      "source": [
        "encoder_input_data[0].shape"
      ],
      "metadata": {
        "colab": {
          "base_uri": "https://localhost:8080/"
        },
        "id": "y-YwecNXZLl2",
        "outputId": "fc3567b7-cd44-4c15-c4bc-92f45c03a812"
      },
      "execution_count": 11,
      "outputs": [
        {
          "output_type": "execute_result",
          "data": {
            "text/plain": [
              "(15, 71)"
            ]
          },
          "metadata": {},
          "execution_count": 11
        }
      ]
    },
    {
      "cell_type": "code",
      "source": [
        "# Define an input sequence and process it.\n",
        "encoder_inputs = Input(shape=(None, num_encoder_tokens))\n",
        "encoder = LSTM(latent_dim, return_state=True) #Initialize the LSTM Layer\n",
        "encoder_outputs, state_h, state_c = encoder(encoder_inputs) #state_h is hidden cell, state_c is cell state\n",
        "# We discard 'encoder_outputs' and only keep the states.\n",
        "encoder_states = [state_h, state_c]"
      ],
      "metadata": {
        "id": "IWvGgf3SZP3R"
      },
      "execution_count": 12,
      "outputs": []
    },
    {
      "cell_type": "code",
      "source": [
        "# Set up the decoder, using 'encoder-states' as initial state.\n",
        "decoder_inputs = Input(shape=(None, num_decoder_tokens))\n",
        "# We set up our decoder to return full output sequences,\n",
        "# and to return internal states as well, We don't use the\n",
        "# return states in the training model, but we will use them in inference.\n",
        "decoder_lstm = LSTM(latent_dim, return_sequences=True, return_state=True)\n",
        "decoder_outputs, _, _ = decoder_lstm(decoder_inputs, initial_state=encoder_states)\n",
        "decoder_dense = Dense(num_decoder_tokens, activation='softmax')\n",
        "decoder_outputs = decoder_dense(decoder_outputs)"
      ],
      "metadata": {
        "id": "rqGtxpd2aIP1"
      },
      "execution_count": 13,
      "outputs": []
    },
    {
      "cell_type": "code",
      "source": [
        "# Define a model that will turn\n",
        "# 'encoder_input_data' & 'decoder_input_data' into 'decoder_target_data'\n",
        "model = Model([encoder_inputs, decoder_inputs], decoder_outputs)\n",
        "\n",
        "# Run training\n",
        "# Compile the model\n",
        "model.compile(optimizer='rmsprop', loss='categorical_crossentropy', metrics=['accuracy'])\n",
        "\n",
        "# Train the model using fit\n",
        "model.fit([encoder_input_data, decoder_input_data], decoder_target_data,\n",
        "          batch_size=batch_size,\n",
        "          epochs=epochs,\n",
        "          validation_split=0.2)"
      ],
      "metadata": {
        "colab": {
          "base_uri": "https://localhost:8080/"
        },
        "id": "kJ0vsY8IeTJk",
        "outputId": "6d6bf889-1188-4872-8786-be100ee75c2c"
      },
      "execution_count": 15,
      "outputs": [
        {
          "output_type": "stream",
          "name": "stdout",
          "text": [
            "Epoch 1/100\n",
            "125/125 [==============================] - 12s 21ms/step - loss: 3.7918 - accuracy: 0.9552 - val_loss: 4.4313 - val_accuracy: 0.9661\n",
            "Epoch 2/100\n",
            "125/125 [==============================] - 1s 11ms/step - loss: 4.1418 - accuracy: 0.9661 - val_loss: 4.9332 - val_accuracy: 0.9661\n",
            "Epoch 3/100\n",
            "125/125 [==============================] - 2s 12ms/step - loss: 4.5811 - accuracy: 0.9661 - val_loss: 5.4323 - val_accuracy: 0.9661\n",
            "Epoch 4/100\n",
            "125/125 [==============================] - 2s 13ms/step - loss: 5.0168 - accuracy: 0.9661 - val_loss: 5.9228 - val_accuracy: 0.9661\n",
            "Epoch 5/100\n",
            "125/125 [==============================] - 1s 11ms/step - loss: 5.4541 - accuracy: 0.9661 - val_loss: 6.4159 - val_accuracy: 0.9661\n",
            "Epoch 6/100\n",
            "125/125 [==============================] - 1s 12ms/step - loss: 5.8854 - accuracy: 0.9661 - val_loss: 6.9484 - val_accuracy: 0.9661\n",
            "Epoch 7/100\n",
            "125/125 [==============================] - 1s 11ms/step - loss: 6.3323 - accuracy: 0.9661 - val_loss: 7.4839 - val_accuracy: 0.9661\n",
            "Epoch 8/100\n",
            "125/125 [==============================] - 1s 11ms/step - loss: 6.7816 - accuracy: 0.9661 - val_loss: 7.9368 - val_accuracy: 0.9661\n",
            "Epoch 9/100\n",
            "125/125 [==============================] - 1s 11ms/step - loss: 7.2241 - accuracy: 0.9661 - val_loss: 8.5195 - val_accuracy: 0.9661\n",
            "Epoch 10/100\n",
            "125/125 [==============================] - 1s 11ms/step - loss: 7.6800 - accuracy: 0.9661 - val_loss: 9.0166 - val_accuracy: 0.9661\n",
            "Epoch 11/100\n",
            "125/125 [==============================] - 1s 12ms/step - loss: 8.1326 - accuracy: 0.9661 - val_loss: 9.4984 - val_accuracy: 0.9661\n",
            "Epoch 12/100\n",
            "125/125 [==============================] - 2s 13ms/step - loss: 8.5833 - accuracy: 0.9661 - val_loss: 10.0338 - val_accuracy: 0.9661\n",
            "Epoch 13/100\n",
            "125/125 [==============================] - 2s 12ms/step - loss: 9.0430 - accuracy: 0.9661 - val_loss: 10.5830 - val_accuracy: 0.9661\n",
            "Epoch 14/100\n",
            "125/125 [==============================] - 1s 11ms/step - loss: 9.5321 - accuracy: 0.9661 - val_loss: 11.0697 - val_accuracy: 0.9661\n",
            "Epoch 15/100\n",
            "125/125 [==============================] - 1s 12ms/step - loss: 9.9468 - accuracy: 0.9661 - val_loss: 11.6444 - val_accuracy: 0.9661\n",
            "Epoch 16/100\n",
            "125/125 [==============================] - 1s 12ms/step - loss: 10.4410 - accuracy: 0.9661 - val_loss: 12.1813 - val_accuracy: 0.9661\n",
            "Epoch 17/100\n",
            "125/125 [==============================] - 1s 11ms/step - loss: 10.9092 - accuracy: 0.9661 - val_loss: 12.7450 - val_accuracy: 0.9661\n",
            "Epoch 18/100\n",
            "125/125 [==============================] - 1s 11ms/step - loss: 11.3956 - accuracy: 0.9661 - val_loss: 13.2965 - val_accuracy: 0.9661\n",
            "Epoch 19/100\n",
            "125/125 [==============================] - 1s 11ms/step - loss: 11.8451 - accuracy: 0.9661 - val_loss: 13.7643 - val_accuracy: 0.9661\n",
            "Epoch 20/100\n",
            "125/125 [==============================] - 2s 12ms/step - loss: 12.3183 - accuracy: 0.9661 - val_loss: 14.3596 - val_accuracy: 0.9661\n",
            "Epoch 21/100\n",
            "125/125 [==============================] - 2s 12ms/step - loss: 12.8122 - accuracy: 0.9661 - val_loss: 14.9187 - val_accuracy: 0.9661\n",
            "Epoch 22/100\n",
            "125/125 [==============================] - 1s 11ms/step - loss: 13.2984 - accuracy: 0.9661 - val_loss: 15.4776 - val_accuracy: 0.9661\n",
            "Epoch 23/100\n",
            "125/125 [==============================] - 1s 11ms/step - loss: 13.7709 - accuracy: 0.9661 - val_loss: 16.0014 - val_accuracy: 0.9661\n",
            "Epoch 24/100\n",
            "125/125 [==============================] - 1s 11ms/step - loss: 14.2502 - accuracy: 0.9661 - val_loss: 16.5833 - val_accuracy: 0.9661\n",
            "Epoch 25/100\n",
            "125/125 [==============================] - 1s 11ms/step - loss: 14.7445 - accuracy: 0.9661 - val_loss: 17.1519 - val_accuracy: 0.9661\n",
            "Epoch 26/100\n",
            "125/125 [==============================] - 1s 12ms/step - loss: 15.2273 - accuracy: 0.9661 - val_loss: 17.6966 - val_accuracy: 0.9661\n",
            "Epoch 27/100\n",
            "125/125 [==============================] - 1s 12ms/step - loss: 15.7100 - accuracy: 0.9661 - val_loss: 18.2489 - val_accuracy: 0.9661\n",
            "Epoch 28/100\n",
            "125/125 [==============================] - 1s 11ms/step - loss: 16.2034 - accuracy: 0.9661 - val_loss: 18.8273 - val_accuracy: 0.9661\n",
            "Epoch 29/100\n",
            "125/125 [==============================] - 2s 13ms/step - loss: 16.7008 - accuracy: 0.9661 - val_loss: 19.3652 - val_accuracy: 0.9661\n",
            "Epoch 30/100\n",
            "125/125 [==============================] - 2s 12ms/step - loss: 17.1779 - accuracy: 0.9661 - val_loss: 19.9514 - val_accuracy: 0.9661\n",
            "Epoch 31/100\n",
            "125/125 [==============================] - 1s 11ms/step - loss: 17.6784 - accuracy: 0.9661 - val_loss: 20.5214 - val_accuracy: 0.9661\n",
            "Epoch 32/100\n",
            "125/125 [==============================] - 1s 12ms/step - loss: 18.1712 - accuracy: 0.9661 - val_loss: 21.0639 - val_accuracy: 0.9661\n",
            "Epoch 33/100\n",
            "125/125 [==============================] - 1s 12ms/step - loss: 18.6543 - accuracy: 0.9661 - val_loss: 21.6213 - val_accuracy: 0.9661\n",
            "Epoch 34/100\n",
            "125/125 [==============================] - 1s 11ms/step - loss: 19.1504 - accuracy: 0.9661 - val_loss: 22.2191 - val_accuracy: 0.9661\n",
            "Epoch 35/100\n",
            "125/125 [==============================] - 1s 11ms/step - loss: 19.6550 - accuracy: 0.9661 - val_loss: 22.7867 - val_accuracy: 0.9661\n",
            "Epoch 36/100\n",
            "125/125 [==============================] - 1s 11ms/step - loss: 20.1449 - accuracy: 0.9661 - val_loss: 23.3598 - val_accuracy: 0.9661\n",
            "Epoch 37/100\n",
            "125/125 [==============================] - 1s 12ms/step - loss: 20.6362 - accuracy: 0.9661 - val_loss: 23.9186 - val_accuracy: 0.9661\n",
            "Epoch 38/100\n",
            "125/125 [==============================] - 2s 13ms/step - loss: 21.1358 - accuracy: 0.9661 - val_loss: 24.4950 - val_accuracy: 0.9661\n",
            "Epoch 39/100\n",
            "125/125 [==============================] - 1s 12ms/step - loss: 21.6408 - accuracy: 0.9661 - val_loss: 25.0493 - val_accuracy: 0.9661\n",
            "Epoch 40/100\n",
            "125/125 [==============================] - 1s 11ms/step - loss: 22.1329 - accuracy: 0.9661 - val_loss: 25.6336 - val_accuracy: 0.9661\n",
            "Epoch 41/100\n",
            "125/125 [==============================] - 1s 11ms/step - loss: 22.6344 - accuracy: 0.9661 - val_loss: 26.1960 - val_accuracy: 0.9661\n",
            "Epoch 42/100\n",
            "125/125 [==============================] - 1s 11ms/step - loss: 23.1271 - accuracy: 0.9661 - val_loss: 26.7639 - val_accuracy: 0.9661\n",
            "Epoch 43/100\n",
            "125/125 [==============================] - 1s 11ms/step - loss: 23.6309 - accuracy: 0.9661 - val_loss: 27.3635 - val_accuracy: 0.9661\n",
            "Epoch 44/100\n",
            "125/125 [==============================] - 1s 12ms/step - loss: 24.1347 - accuracy: 0.9661 - val_loss: 27.9428 - val_accuracy: 0.9661\n",
            "Epoch 45/100\n",
            "125/125 [==============================] - 1s 11ms/step - loss: 24.6513 - accuracy: 0.9661 - val_loss: 28.5431 - val_accuracy: 0.9661\n",
            "Epoch 46/100\n",
            "125/125 [==============================] - 2s 12ms/step - loss: 25.1570 - accuracy: 0.9661 - val_loss: 29.1050 - val_accuracy: 0.9661\n",
            "Epoch 47/100\n",
            "125/125 [==============================] - 2s 13ms/step - loss: 25.6626 - accuracy: 0.9661 - val_loss: 29.6908 - val_accuracy: 0.9661\n",
            "Epoch 48/100\n",
            "125/125 [==============================] - 1s 11ms/step - loss: 26.1694 - accuracy: 0.9661 - val_loss: 30.2677 - val_accuracy: 0.9661\n",
            "Epoch 49/100\n",
            "125/125 [==============================] - 1s 12ms/step - loss: 26.6845 - accuracy: 0.9661 - val_loss: 30.8495 - val_accuracy: 0.9661\n",
            "Epoch 50/100\n",
            "125/125 [==============================] - 1s 11ms/step - loss: 27.1844 - accuracy: 0.9661 - val_loss: 31.4391 - val_accuracy: 0.9661\n",
            "Epoch 51/100\n",
            "125/125 [==============================] - 1s 12ms/step - loss: 27.6981 - accuracy: 0.9661 - val_loss: 32.0318 - val_accuracy: 0.9661\n",
            "Epoch 52/100\n",
            "125/125 [==============================] - 1s 12ms/step - loss: 28.2091 - accuracy: 0.9661 - val_loss: 32.5902 - val_accuracy: 0.9661\n",
            "Epoch 53/100\n",
            "125/125 [==============================] - 1s 12ms/step - loss: 28.7047 - accuracy: 0.9661 - val_loss: 33.1879 - val_accuracy: 0.9661\n",
            "Epoch 54/100\n",
            "125/125 [==============================] - 1s 12ms/step - loss: 29.2201 - accuracy: 0.9661 - val_loss: 33.7654 - val_accuracy: 0.9661\n",
            "Epoch 55/100\n",
            "125/125 [==============================] - 2s 14ms/step - loss: 29.7333 - accuracy: 0.9661 - val_loss: 34.3503 - val_accuracy: 0.9661\n",
            "Epoch 56/100\n",
            "125/125 [==============================] - 1s 11ms/step - loss: 30.2435 - accuracy: 0.9661 - val_loss: 34.9333 - val_accuracy: 0.9661\n",
            "Epoch 57/100\n",
            "125/125 [==============================] - 1s 12ms/step - loss: 30.7504 - accuracy: 0.9661 - val_loss: 35.5459 - val_accuracy: 0.9661\n",
            "Epoch 58/100\n",
            "125/125 [==============================] - 1s 11ms/step - loss: 31.2715 - accuracy: 0.9661 - val_loss: 36.1020 - val_accuracy: 0.9661\n",
            "Epoch 59/100\n",
            "125/125 [==============================] - 1s 12ms/step - loss: 31.7741 - accuracy: 0.9661 - val_loss: 36.7005 - val_accuracy: 0.9661\n",
            "Epoch 60/100\n",
            "125/125 [==============================] - 1s 11ms/step - loss: 32.2825 - accuracy: 0.9661 - val_loss: 37.2835 - val_accuracy: 0.9661\n",
            "Epoch 61/100\n",
            "125/125 [==============================] - 1s 11ms/step - loss: 32.7934 - accuracy: 0.9661 - val_loss: 37.8875 - val_accuracy: 0.9661\n",
            "Epoch 62/100\n",
            "125/125 [==============================] - 1s 11ms/step - loss: 33.3071 - accuracy: 0.9661 - val_loss: 38.4744 - val_accuracy: 0.9661\n",
            "Epoch 63/100\n",
            "125/125 [==============================] - 2s 13ms/step - loss: 33.8221 - accuracy: 0.9661 - val_loss: 39.0515 - val_accuracy: 0.9661\n",
            "Epoch 64/100\n",
            "125/125 [==============================] - 2s 13ms/step - loss: 34.3285 - accuracy: 0.9661 - val_loss: 39.6663 - val_accuracy: 0.9661\n",
            "Epoch 65/100\n",
            "125/125 [==============================] - 1s 10ms/step - loss: 34.8474 - accuracy: 0.9661 - val_loss: 40.2420 - val_accuracy: 0.9661\n",
            "Epoch 66/100\n",
            "125/125 [==============================] - 1s 12ms/step - loss: 35.3572 - accuracy: 0.9661 - val_loss: 40.8210 - val_accuracy: 0.9661\n",
            "Epoch 67/100\n",
            "125/125 [==============================] - 1s 12ms/step - loss: 35.8721 - accuracy: 0.9661 - val_loss: 41.4301 - val_accuracy: 0.9661\n",
            "Epoch 68/100\n",
            "125/125 [==============================] - 1s 11ms/step - loss: 36.3834 - accuracy: 0.9661 - val_loss: 42.0061 - val_accuracy: 0.9661\n",
            "Epoch 69/100\n",
            "125/125 [==============================] - 1s 12ms/step - loss: 36.8897 - accuracy: 0.9661 - val_loss: 42.6033 - val_accuracy: 0.9661\n",
            "Epoch 70/100\n",
            "125/125 [==============================] - 1s 12ms/step - loss: 37.4014 - accuracy: 0.9661 - val_loss: 43.1672 - val_accuracy: 0.9661\n",
            "Epoch 71/100\n",
            "125/125 [==============================] - 2s 13ms/step - loss: 37.9117 - accuracy: 0.9661 - val_loss: 43.7481 - val_accuracy: 0.9661\n",
            "Epoch 72/100\n",
            "125/125 [==============================] - 2s 14ms/step - loss: 38.4210 - accuracy: 0.9661 - val_loss: 44.3535 - val_accuracy: 0.9661\n",
            "Epoch 73/100\n",
            "125/125 [==============================] - 1s 12ms/step - loss: 38.9246 - accuracy: 0.9661 - val_loss: 44.9178 - val_accuracy: 0.9661\n",
            "Epoch 74/100\n",
            "125/125 [==============================] - 1s 11ms/step - loss: 39.4246 - accuracy: 0.9661 - val_loss: 45.4864 - val_accuracy: 0.9661\n",
            "Epoch 75/100\n",
            "125/125 [==============================] - 1s 12ms/step - loss: 39.9282 - accuracy: 0.9661 - val_loss: 46.0549 - val_accuracy: 0.9661\n",
            "Epoch 76/100\n",
            "125/125 [==============================] - 2s 13ms/step - loss: 40.4235 - accuracy: 0.9661 - val_loss: 46.6577 - val_accuracy: 0.9661\n",
            "Epoch 77/100\n",
            "125/125 [==============================] - 2s 13ms/step - loss: 40.9436 - accuracy: 0.9661 - val_loss: 47.2416 - val_accuracy: 0.9661\n",
            "Epoch 78/100\n",
            "125/125 [==============================] - 1s 12ms/step - loss: 41.4484 - accuracy: 0.9661 - val_loss: 47.8034 - val_accuracy: 0.9661\n",
            "Epoch 79/100\n",
            "125/125 [==============================] - 2s 13ms/step - loss: 41.9552 - accuracy: 0.9661 - val_loss: 48.4028 - val_accuracy: 0.9661\n",
            "Epoch 80/100\n",
            "125/125 [==============================] - 1s 12ms/step - loss: 42.4675 - accuracy: 0.9661 - val_loss: 48.9882 - val_accuracy: 0.9661\n",
            "Epoch 81/100\n",
            "125/125 [==============================] - 1s 11ms/step - loss: 42.9773 - accuracy: 0.9661 - val_loss: 49.5607 - val_accuracy: 0.9661\n",
            "Epoch 82/100\n",
            "125/125 [==============================] - 1s 11ms/step - loss: 43.4794 - accuracy: 0.9661 - val_loss: 50.1628 - val_accuracy: 0.9661\n",
            "Epoch 83/100\n",
            "125/125 [==============================] - 1s 11ms/step - loss: 43.9897 - accuracy: 0.9661 - val_loss: 50.7228 - val_accuracy: 0.9661\n",
            "Epoch 84/100\n",
            "125/125 [==============================] - 1s 11ms/step - loss: 44.4913 - accuracy: 0.9661 - val_loss: 51.3079 - val_accuracy: 0.9661\n",
            "Epoch 85/100\n",
            "125/125 [==============================] - 1s 11ms/step - loss: 45.0019 - accuracy: 0.9661 - val_loss: 51.8764 - val_accuracy: 0.9661\n",
            "Epoch 86/100\n",
            "125/125 [==============================] - 1s 12ms/step - loss: 45.5115 - accuracy: 0.9661 - val_loss: 52.4802 - val_accuracy: 0.9661\n",
            "Epoch 87/100\n",
            "125/125 [==============================] - 1s 12ms/step - loss: 46.0257 - accuracy: 0.9661 - val_loss: 53.0468 - val_accuracy: 0.9661\n",
            "Epoch 88/100\n",
            "125/125 [==============================] - 2s 14ms/step - loss: 46.5363 - accuracy: 0.9661 - val_loss: 53.6435 - val_accuracy: 0.9661\n",
            "Epoch 89/100\n",
            "125/125 [==============================] - 2s 13ms/step - loss: 47.0405 - accuracy: 0.9661 - val_loss: 54.2221 - val_accuracy: 0.9661\n",
            "Epoch 90/100\n",
            "125/125 [==============================] - 1s 11ms/step - loss: 47.5339 - accuracy: 0.9661 - val_loss: 54.7957 - val_accuracy: 0.9661\n",
            "Epoch 91/100\n",
            "125/125 [==============================] - 1s 11ms/step - loss: 48.0381 - accuracy: 0.9661 - val_loss: 55.3848 - val_accuracy: 0.9661\n",
            "Epoch 92/100\n",
            "125/125 [==============================] - 1s 11ms/step - loss: 48.5497 - accuracy: 0.9661 - val_loss: 55.9668 - val_accuracy: 0.9661\n",
            "Epoch 93/100\n",
            "125/125 [==============================] - 1s 12ms/step - loss: 49.0515 - accuracy: 0.9661 - val_loss: 56.5464 - val_accuracy: 0.9661\n",
            "Epoch 94/100\n",
            "125/125 [==============================] - 1s 11ms/step - loss: 49.5708 - accuracy: 0.9661 - val_loss: 57.1310 - val_accuracy: 0.9661\n",
            "Epoch 95/100\n",
            "125/125 [==============================] - 1s 12ms/step - loss: 50.0669 - accuracy: 0.9661 - val_loss: 57.6959 - val_accuracy: 0.9661\n",
            "Epoch 96/100\n",
            "125/125 [==============================] - 2s 13ms/step - loss: 50.5685 - accuracy: 0.9661 - val_loss: 58.2907 - val_accuracy: 0.9661\n",
            "Epoch 97/100\n",
            "125/125 [==============================] - 1s 12ms/step - loss: 51.0779 - accuracy: 0.9661 - val_loss: 58.8473 - val_accuracy: 0.9661\n",
            "Epoch 98/100\n",
            "125/125 [==============================] - 1s 11ms/step - loss: 51.5844 - accuracy: 0.9661 - val_loss: 59.4284 - val_accuracy: 0.9661\n",
            "Epoch 99/100\n",
            "125/125 [==============================] - 1s 12ms/step - loss: 52.0904 - accuracy: 0.9661 - val_loss: 60.0379 - val_accuracy: 0.9661\n",
            "Epoch 100/100\n",
            "125/125 [==============================] - 1s 11ms/step - loss: 52.6007 - accuracy: 0.9661 - val_loss: 60.6111 - val_accuracy: 0.9661\n"
          ]
        },
        {
          "output_type": "execute_result",
          "data": {
            "text/plain": [
              "<keras.callbacks.History at 0x7999a6969ea0>"
            ]
          },
          "metadata": {},
          "execution_count": 15
        }
      ]
    },
    {
      "cell_type": "code",
      "source": [],
      "metadata": {
        "id": "CgyIA7azgf9D"
      },
      "execution_count": null,
      "outputs": []
    }
  ]
}