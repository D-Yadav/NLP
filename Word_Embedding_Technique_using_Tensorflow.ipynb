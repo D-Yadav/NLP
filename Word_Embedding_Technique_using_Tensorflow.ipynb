{
  "nbformat": 4,
  "nbformat_minor": 0,
  "metadata": {
    "colab": {
      "provenance": [],
      "gpuType": "T4",
      "authorship_tag": "ABX9TyNkqBgleqafZx48U2dza6Lo",
      "include_colab_link": true
    },
    "kernelspec": {
      "name": "python3",
      "display_name": "Python 3"
    },
    "language_info": {
      "name": "python"
    },
    "accelerator": "GPU"
  },
  "cells": [
    {
      "cell_type": "markdown",
      "metadata": {
        "id": "view-in-github",
        "colab_type": "text"
      },
      "source": [
        "<a href=\"https://colab.research.google.com/github/D-Yadav/NLP/blob/main/Word_Embedding_Technique_using_Tensorflow.ipynb\" target=\"_parent\"><img src=\"https://colab.research.google.com/assets/colab-badge.svg\" alt=\"Open In Colab\"/></a>"
      ]
    },
    {
      "cell_type": "code",
      "source": [
        "### Libraries USed Tensorflow> 2.0  and keras"
      ],
      "metadata": {
        "id": "i8tlSZAJH-Il"
      },
      "execution_count": null,
      "outputs": []
    },
    {
      "cell_type": "code",
      "execution_count": 2,
      "metadata": {
        "colab": {
          "base_uri": "https://localhost:8080/"
        },
        "id": "3COQC-s8HRgO",
        "outputId": "92417f02-85e0-48cf-9cdf-2c810786a918"
      },
      "outputs": [
        {
          "output_type": "stream",
          "name": "stdout",
          "text": [
            "Requirement already satisfied: pip in /usr/local/lib/python3.10/dist-packages (23.1.2)\n",
            "Collecting pip\n",
            "  Downloading pip-23.2.1-py3-none-any.whl (2.1 MB)\n",
            "\u001b[2K     \u001b[90m━━━━━━━━━━━━━━━━━━━━━━━━━━━━━━━━━━━━━━━━\u001b[0m \u001b[32m2.1/2.1 MB\u001b[0m \u001b[31m8.9 MB/s\u001b[0m eta \u001b[36m0:00:00\u001b[0m\n",
            "\u001b[?25hInstalling collected packages: pip\n",
            "  Attempting uninstall: pip\n",
            "    Found existing installation: pip 23.1.2\n",
            "    Uninstalling pip-23.1.2:\n",
            "      Successfully uninstalled pip-23.1.2\n",
            "Successfully installed pip-23.2.1\n"
          ]
        }
      ],
      "source": [
        "pip install --upgrade pip"
      ]
    },
    {
      "cell_type": "code",
      "source": [
        "import tensorflow as tf\n",
        "print(tf.__version__)"
      ],
      "metadata": {
        "colab": {
          "base_uri": "https://localhost:8080/"
        },
        "id": "CO_Wd41uHfiu",
        "outputId": "36da31c4-1a79-4521-89a2-6739abf22904"
      },
      "execution_count": 3,
      "outputs": [
        {
          "output_type": "stream",
          "name": "stdout",
          "text": [
            "2.12.0\n"
          ]
        }
      ]
    },
    {
      "cell_type": "code",
      "source": [
        "##tensorflow >2.0\n",
        "from tensorflow.keras.preprocessing.text import one_hot"
      ],
      "metadata": {
        "id": "2xJh8ArnIaME"
      },
      "execution_count": 4,
      "outputs": []
    },
    {
      "cell_type": "code",
      "source": [
        "### sentences\n",
        "sent=[  'the glass of milk',\n",
        "     'the glass of juice',\n",
        "     'the cup of tea',\n",
        "    'I am a good boy',\n",
        "     'I am a good developer',\n",
        "     'understand the meaning of words',\n",
        "     'your videos are good']"
      ],
      "metadata": {
        "id": "BEInHgMDIgV2"
      },
      "execution_count": 5,
      "outputs": []
    },
    {
      "cell_type": "code",
      "source": [
        "sent"
      ],
      "metadata": {
        "colab": {
          "base_uri": "https://localhost:8080/"
        },
        "id": "9X3yhx6FInyK",
        "outputId": "39d1a45c-e4cc-419b-962e-dc3be5173b08"
      },
      "execution_count": 6,
      "outputs": [
        {
          "output_type": "execute_result",
          "data": {
            "text/plain": [
              "['the glass of milk',\n",
              " 'the glass of juice',\n",
              " 'the cup of tea',\n",
              " 'I am a good boy',\n",
              " 'I am a good developer',\n",
              " 'understand the meaning of words',\n",
              " 'your videos are good']"
            ]
          },
          "metadata": {},
          "execution_count": 6
        }
      ]
    },
    {
      "cell_type": "code",
      "source": [
        "### Vocabulary size\n",
        "voc_size=10000"
      ],
      "metadata": {
        "id": "-AZ6PNHjIsGT"
      },
      "execution_count": 8,
      "outputs": []
    },
    {
      "cell_type": "markdown",
      "source": [
        "### One-Hot Encoding"
      ],
      "metadata": {
        "id": "KJM2plKkJjo9"
      }
    },
    {
      "cell_type": "code",
      "source": [
        "onehot_repr=[one_hot(words,voc_size)for words in sent]\n",
        "# here iterating through each and every words in sentences\n",
        "# using one_hot and passing words and voc_size as parameter\n",
        "# storing into onehot_repr# for every word of each sentences where ever the word is present denoted by 1, that index we're extracting\n",
        "print(onehot_repr)"
      ],
      "metadata": {
        "colab": {
          "base_uri": "https://localhost:8080/"
        },
        "id": "3mU789TwJtOC",
        "outputId": "0356cb5d-7efb-43f4-bf18-98a4a6d1a034"
      },
      "execution_count": 9,
      "outputs": [
        {
          "output_type": "stream",
          "name": "stdout",
          "text": [
            "[[5904, 378, 4212, 4146], [5904, 378, 4212, 4712], [5904, 4018, 4212, 1455], [3631, 9814, 3574, 7285, 4624], [3631, 9814, 3574, 7285, 4187], [6807, 5904, 8600, 4212, 2611], [8736, 1206, 740, 7285]]\n"
          ]
        }
      ]
    },
    {
      "cell_type": "markdown",
      "source": [
        " ### Word Embedding Represntation"
      ],
      "metadata": {
        "id": "rGqB_31SKgVI"
      }
    },
    {
      "cell_type": "code",
      "source": [
        "from tensorflow.keras.layers import Embedding\n",
        "from tensorflow.keras.preprocessing.sequence import pad_sequences\n",
        "from tensorflow.keras.models import Sequential"
      ],
      "metadata": {
        "id": "BY-A1h-yL6Mg"
      },
      "execution_count": 10,
      "outputs": []
    },
    {
      "cell_type": "code",
      "source": [
        "import numpy as np"
      ],
      "metadata": {
        "id": "0pFpP3hNMCGe"
      },
      "execution_count": 11,
      "outputs": []
    },
    {
      "cell_type": "code",
      "source": [
        "## pre padding\n",
        "sent_length=8 #considering the maximum length of sentence to be 8\n",
        "embedded_docs=pad_sequences(onehot_repr,padding='pre',maxlen=sent_length)\n",
        "#pad_sequences will make sure that all the vectors of these words make it 8\n",
        "#padding='pre' meaning we're adding zeros in the beginning to make the size 8\n",
        "#padding ='post' meaning we're adding zeros at the last to make size as 8\n",
        "print(embedded_docs)"
      ],
      "metadata": {
        "colab": {
          "base_uri": "https://localhost:8080/"
        },
        "id": "sgbQ37edMRyc",
        "outputId": "7a165741-94c3-4466-9b56-ccffebd95a27"
      },
      "execution_count": 15,
      "outputs": [
        {
          "output_type": "stream",
          "name": "stdout",
          "text": [
            "[[   0    0    0    0 5904  378 4212 4146]\n",
            " [   0    0    0    0 5904  378 4212 4712]\n",
            " [   0    0    0    0 5904 4018 4212 1455]\n",
            " [   0    0    0 3631 9814 3574 7285 4624]\n",
            " [   0    0    0 3631 9814 3574 7285 4187]\n",
            " [   0    0    0 6807 5904 8600 4212 2611]\n",
            " [   0    0    0    0 8736 1206  740 7285]]\n"
          ]
        }
      ]
    },
    {
      "cell_type": "code",
      "source": [
        "dim=10 #feature representation(dimension) size = 10"
      ],
      "metadata": {
        "id": "HATFZVN0NtIn"
      },
      "execution_count": 16,
      "outputs": []
    },
    {
      "cell_type": "code",
      "source": [
        "model=Sequential() #Created sequential model\n",
        "model.add(Embedding(voc_size,10,input_length=sent_length))\n",
        "# Embedding layer is going to work similar to word2vec this is going to train all the neural networks\n",
        "# voc_size means 10,000 what we denoted above\n",
        "# 10 is , how many features(dimensions) you want for each vectors , we initialized as dim=10\n",
        "# input_length = sent_length, means 8 that is being supplied over here\n",
        "model.compile('adam','mse')\n",
        "# Compiling with adam optimizer and mse is our loss function"
      ],
      "metadata": {
        "id": "ylUVkjBbRp2T"
      },
      "execution_count": 17,
      "outputs": []
    },
    {
      "cell_type": "code",
      "source": [
        "model.summary()"
      ],
      "metadata": {
        "colab": {
          "base_uri": "https://localhost:8080/"
        },
        "id": "lhfXUMkPTYlX",
        "outputId": "ba69d6bd-1e87-4885-ee89-a48af94e8285"
      },
      "execution_count": 18,
      "outputs": [
        {
          "output_type": "stream",
          "name": "stdout",
          "text": [
            "Model: \"sequential\"\n",
            "_________________________________________________________________\n",
            " Layer (type)                Output Shape              Param #   \n",
            "=================================================================\n",
            " embedding (Embedding)       (None, 8, 10)             100000    \n",
            "                                                                 \n",
            "=================================================================\n",
            "Total params: 100,000\n",
            "Trainable params: 100,000\n",
            "Non-trainable params: 0\n",
            "_________________________________________________________________\n"
          ]
        }
      ]
    },
    {
      "cell_type": "code",
      "source": [
        "model.predict(embedded_docs[0]) #this is printing the first sentence in 10 dim vector form"
      ],
      "metadata": {
        "colab": {
          "base_uri": "https://localhost:8080/"
        },
        "id": "HSE6MiH2TeDf",
        "outputId": "ff6e48f0-d51c-4bdf-e774-1ccd8292ae4a"
      },
      "execution_count": 21,
      "outputs": [
        {
          "output_type": "stream",
          "name": "stdout",
          "text": [
            "1/1 [==============================] - 0s 27ms/step\n"
          ]
        },
        {
          "output_type": "execute_result",
          "data": {
            "text/plain": [
              "array([[ 0.02156974,  0.02944449,  0.02797213,  0.00108568, -0.00892942,\n",
              "         0.02793166,  0.03904739, -0.03377576,  0.00339228,  0.01265473],\n",
              "       [ 0.02156974,  0.02944449,  0.02797213,  0.00108568, -0.00892942,\n",
              "         0.02793166,  0.03904739, -0.03377576,  0.00339228,  0.01265473],\n",
              "       [ 0.02156974,  0.02944449,  0.02797213,  0.00108568, -0.00892942,\n",
              "         0.02793166,  0.03904739, -0.03377576,  0.00339228,  0.01265473],\n",
              "       [ 0.02156974,  0.02944449,  0.02797213,  0.00108568, -0.00892942,\n",
              "         0.02793166,  0.03904739, -0.03377576,  0.00339228,  0.01265473],\n",
              "       [ 0.02257339, -0.02388223,  0.00384401,  0.01383957,  0.019021  ,\n",
              "        -0.01812022, -0.01822075, -0.01401328, -0.02330158,  0.02993924],\n",
              "       [-0.00973014,  0.01032559, -0.04535307,  0.00532162, -0.04651314,\n",
              "         0.03166132,  0.00795404, -0.0170112 , -0.00345042, -0.00173151],\n",
              "       [ 0.00433198, -0.03016307,  0.00916332, -0.03107891,  0.00426575,\n",
              "         0.04911098,  0.03937649, -0.01338568, -0.04737068,  0.00066721],\n",
              "       [ 0.04654387, -0.04993027, -0.02500857,  0.04720838, -0.0323835 ,\n",
              "         0.0208214 , -0.0275581 ,  0.00974941, -0.03422427,  0.02092237]],\n",
              "      dtype=float32)"
            ]
          },
          "metadata": {},
          "execution_count": 21
        }
      ]
    },
    {
      "cell_type": "code",
      "source": [
        "embedded_docs[0]"
      ],
      "metadata": {
        "colab": {
          "base_uri": "https://localhost:8080/"
        },
        "id": "lQKmP6_-Tvff",
        "outputId": "1b6514f3-679c-4850-f7ac-296bc5240b10"
      },
      "execution_count": 22,
      "outputs": [
        {
          "output_type": "execute_result",
          "data": {
            "text/plain": [
              "array([   0,    0,    0,    0, 5904,  378, 4212, 4146], dtype=int32)"
            ]
          },
          "metadata": {},
          "execution_count": 22
        }
      ]
    },
    {
      "cell_type": "code",
      "source": [
        "print(model.predict(embedded_docs)) # This is printing all the sentences"
      ],
      "metadata": {
        "colab": {
          "base_uri": "https://localhost:8080/"
        },
        "id": "9QL7Tj15UCoC",
        "outputId": "6cabf0cf-7a78-4df7-f5c4-8ece3d68519c"
      },
      "execution_count": 25,
      "outputs": [
        {
          "output_type": "stream",
          "name": "stdout",
          "text": [
            "1/1 [==============================] - 0s 20ms/step\n",
            "[[[ 0.02156974  0.02944449  0.02797213  0.00108568 -0.00892942\n",
            "    0.02793166  0.03904739 -0.03377576  0.00339228  0.01265473]\n",
            "  [ 0.02156974  0.02944449  0.02797213  0.00108568 -0.00892942\n",
            "    0.02793166  0.03904739 -0.03377576  0.00339228  0.01265473]\n",
            "  [ 0.02156974  0.02944449  0.02797213  0.00108568 -0.00892942\n",
            "    0.02793166  0.03904739 -0.03377576  0.00339228  0.01265473]\n",
            "  [ 0.02156974  0.02944449  0.02797213  0.00108568 -0.00892942\n",
            "    0.02793166  0.03904739 -0.03377576  0.00339228  0.01265473]\n",
            "  [ 0.02257339 -0.02388223  0.00384401  0.01383957  0.019021\n",
            "   -0.01812022 -0.01822075 -0.01401328 -0.02330158  0.02993924]\n",
            "  [-0.00973014  0.01032559 -0.04535307  0.00532162 -0.04651314\n",
            "    0.03166132  0.00795404 -0.0170112  -0.00345042 -0.00173151]\n",
            "  [ 0.00433198 -0.03016307  0.00916332 -0.03107891  0.00426575\n",
            "    0.04911098  0.03937649 -0.01338568 -0.04737068  0.00066721]\n",
            "  [ 0.04654387 -0.04993027 -0.02500857  0.04720838 -0.0323835\n",
            "    0.0208214  -0.0275581   0.00974941 -0.03422427  0.02092237]]\n",
            "\n",
            " [[ 0.02156974  0.02944449  0.02797213  0.00108568 -0.00892942\n",
            "    0.02793166  0.03904739 -0.03377576  0.00339228  0.01265473]\n",
            "  [ 0.02156974  0.02944449  0.02797213  0.00108568 -0.00892942\n",
            "    0.02793166  0.03904739 -0.03377576  0.00339228  0.01265473]\n",
            "  [ 0.02156974  0.02944449  0.02797213  0.00108568 -0.00892942\n",
            "    0.02793166  0.03904739 -0.03377576  0.00339228  0.01265473]\n",
            "  [ 0.02156974  0.02944449  0.02797213  0.00108568 -0.00892942\n",
            "    0.02793166  0.03904739 -0.03377576  0.00339228  0.01265473]\n",
            "  [ 0.02257339 -0.02388223  0.00384401  0.01383957  0.019021\n",
            "   -0.01812022 -0.01822075 -0.01401328 -0.02330158  0.02993924]\n",
            "  [-0.00973014  0.01032559 -0.04535307  0.00532162 -0.04651314\n",
            "    0.03166132  0.00795404 -0.0170112  -0.00345042 -0.00173151]\n",
            "  [ 0.00433198 -0.03016307  0.00916332 -0.03107891  0.00426575\n",
            "    0.04911098  0.03937649 -0.01338568 -0.04737068  0.00066721]\n",
            "  [ 0.03864223  0.03075643 -0.0464494   0.02814616 -0.00378088\n",
            "   -0.01916352 -0.04072448 -0.0062306  -0.01180517  0.00751612]]\n",
            "\n",
            " [[ 0.02156974  0.02944449  0.02797213  0.00108568 -0.00892942\n",
            "    0.02793166  0.03904739 -0.03377576  0.00339228  0.01265473]\n",
            "  [ 0.02156974  0.02944449  0.02797213  0.00108568 -0.00892942\n",
            "    0.02793166  0.03904739 -0.03377576  0.00339228  0.01265473]\n",
            "  [ 0.02156974  0.02944449  0.02797213  0.00108568 -0.00892942\n",
            "    0.02793166  0.03904739 -0.03377576  0.00339228  0.01265473]\n",
            "  [ 0.02156974  0.02944449  0.02797213  0.00108568 -0.00892942\n",
            "    0.02793166  0.03904739 -0.03377576  0.00339228  0.01265473]\n",
            "  [ 0.02257339 -0.02388223  0.00384401  0.01383957  0.019021\n",
            "   -0.01812022 -0.01822075 -0.01401328 -0.02330158  0.02993924]\n",
            "  [ 0.04770677 -0.02701758 -0.03141166  0.0108632   0.01139356\n",
            "   -0.00970361  0.03492084 -0.03995603  0.01534697  0.03757477]\n",
            "  [ 0.00433198 -0.03016307  0.00916332 -0.03107891  0.00426575\n",
            "    0.04911098  0.03937649 -0.01338568 -0.04737068  0.00066721]\n",
            "  [ 0.00167429  0.00698673 -0.00293217 -0.0416546   0.02175376\n",
            "    0.00767643  0.04891416  0.03946393 -0.03261958  0.02058138]]\n",
            "\n",
            " [[ 0.02156974  0.02944449  0.02797213  0.00108568 -0.00892942\n",
            "    0.02793166  0.03904739 -0.03377576  0.00339228  0.01265473]\n",
            "  [ 0.02156974  0.02944449  0.02797213  0.00108568 -0.00892942\n",
            "    0.02793166  0.03904739 -0.03377576  0.00339228  0.01265473]\n",
            "  [ 0.02156974  0.02944449  0.02797213  0.00108568 -0.00892942\n",
            "    0.02793166  0.03904739 -0.03377576  0.00339228  0.01265473]\n",
            "  [ 0.04052173  0.01634759  0.00757856 -0.04335237  0.04038418\n",
            "   -0.0109727   0.00381665 -0.03382093 -0.00495438  0.01505922]\n",
            "  [ 0.02041909 -0.0488132  -0.02272798  0.02744352 -0.01294489\n",
            "    0.01088805 -0.0176571   0.00409318  0.04347015 -0.03854675]\n",
            "  [-0.01665816 -0.03136216  0.03107125  0.001843    0.01298863\n",
            "    0.00132753  0.04546701 -0.0049338   0.03062637  0.01608691]\n",
            "  [ 0.04291174 -0.04614858 -0.0281338  -0.04334177  0.04189464\n",
            "    0.02711511  0.03215795  0.00673249 -0.01628594  0.0122241 ]\n",
            "  [-0.00461812  0.00738776 -0.00615171 -0.04219686 -0.03566661\n",
            "    0.01844695  0.02645694 -0.01700493 -0.03465493 -0.01317113]]\n",
            "\n",
            " [[ 0.02156974  0.02944449  0.02797213  0.00108568 -0.00892942\n",
            "    0.02793166  0.03904739 -0.03377576  0.00339228  0.01265473]\n",
            "  [ 0.02156974  0.02944449  0.02797213  0.00108568 -0.00892942\n",
            "    0.02793166  0.03904739 -0.03377576  0.00339228  0.01265473]\n",
            "  [ 0.02156974  0.02944449  0.02797213  0.00108568 -0.00892942\n",
            "    0.02793166  0.03904739 -0.03377576  0.00339228  0.01265473]\n",
            "  [ 0.04052173  0.01634759  0.00757856 -0.04335237  0.04038418\n",
            "   -0.0109727   0.00381665 -0.03382093 -0.00495438  0.01505922]\n",
            "  [ 0.02041909 -0.0488132  -0.02272798  0.02744352 -0.01294489\n",
            "    0.01088805 -0.0176571   0.00409318  0.04347015 -0.03854675]\n",
            "  [-0.01665816 -0.03136216  0.03107125  0.001843    0.01298863\n",
            "    0.00132753  0.04546701 -0.0049338   0.03062637  0.01608691]\n",
            "  [ 0.04291174 -0.04614858 -0.0281338  -0.04334177  0.04189464\n",
            "    0.02711511  0.03215795  0.00673249 -0.01628594  0.0122241 ]\n",
            "  [-0.03520607  0.01286091  0.02789411  0.03781403  0.04040743\n",
            "    0.03543096 -0.03991012 -0.01682693  0.03876599 -0.00488736]]\n",
            "\n",
            " [[ 0.02156974  0.02944449  0.02797213  0.00108568 -0.00892942\n",
            "    0.02793166  0.03904739 -0.03377576  0.00339228  0.01265473]\n",
            "  [ 0.02156974  0.02944449  0.02797213  0.00108568 -0.00892942\n",
            "    0.02793166  0.03904739 -0.03377576  0.00339228  0.01265473]\n",
            "  [ 0.02156974  0.02944449  0.02797213  0.00108568 -0.00892942\n",
            "    0.02793166  0.03904739 -0.03377576  0.00339228  0.01265473]\n",
            "  [-0.00063401  0.02941725 -0.04827641 -0.03295165  0.0339684\n",
            "   -0.02288672 -0.04060118  0.04783918 -0.01432205 -0.01079906]\n",
            "  [ 0.02257339 -0.02388223  0.00384401  0.01383957  0.019021\n",
            "   -0.01812022 -0.01822075 -0.01401328 -0.02330158  0.02993924]\n",
            "  [ 0.03627943 -0.01752853  0.03492152 -0.04194904  0.01099601\n",
            "   -0.04809086  0.01122874  0.0251922   0.03511303  0.04218081]\n",
            "  [ 0.00433198 -0.03016307  0.00916332 -0.03107891  0.00426575\n",
            "    0.04911098  0.03937649 -0.01338568 -0.04737068  0.00066721]\n",
            "  [-0.00267351  0.01854875  0.03646115  0.02037677 -0.04539838\n",
            "    0.01870913  0.00537198 -0.02990309 -0.02466149 -0.03669501]]\n",
            "\n",
            " [[ 0.02156974  0.02944449  0.02797213  0.00108568 -0.00892942\n",
            "    0.02793166  0.03904739 -0.03377576  0.00339228  0.01265473]\n",
            "  [ 0.02156974  0.02944449  0.02797213  0.00108568 -0.00892942\n",
            "    0.02793166  0.03904739 -0.03377576  0.00339228  0.01265473]\n",
            "  [ 0.02156974  0.02944449  0.02797213  0.00108568 -0.00892942\n",
            "    0.02793166  0.03904739 -0.03377576  0.00339228  0.01265473]\n",
            "  [ 0.02156974  0.02944449  0.02797213  0.00108568 -0.00892942\n",
            "    0.02793166  0.03904739 -0.03377576  0.00339228  0.01265473]\n",
            "  [-0.03251993 -0.02872922 -0.00684816  0.00938996 -0.01039456\n",
            "   -0.04479493 -0.02012632  0.00336606  0.03857458 -0.03400153]\n",
            "  [-0.02760426  0.02792473 -0.00373048  0.04708195 -0.048074\n",
            "    0.04110949  0.02889638  0.04992009  0.03184663  0.014849  ]\n",
            "  [ 0.04675533 -0.04380998 -0.01975442  0.02801451 -0.03340714\n",
            "   -0.02074744 -0.02559712  0.01009715 -0.02530016 -0.0175383 ]\n",
            "  [ 0.04291174 -0.04614858 -0.0281338  -0.04334177  0.04189464\n",
            "    0.02711511  0.03215795  0.00673249 -0.01628594  0.0122241 ]]]\n"
          ]
        }
      ]
    },
    {
      "cell_type": "code",
      "source": [],
      "metadata": {
        "id": "LZmVwPZtUgcn"
      },
      "execution_count": null,
      "outputs": []
    }
  ]
}